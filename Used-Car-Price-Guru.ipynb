{
 "cells": [
  {
   "cell_type": "code",
   "execution_count": 1,
   "id": "a1125a5f",
   "metadata": {},
   "outputs": [],
   "source": [
    "import pandas as pd\n",
    "import numpy as np\n",
    "import matplotlib.pyplot as plt\n",
    "from sklearn.model_selection import train_test_split, cross_val_score, GridSearchCV\n",
    "from sklearn.impute import SimpleImputer\n",
    "from sklearn.preprocessing import StandardScaler\n",
    "from sklearn.feature_selection import RFE\n",
    "from sklearn.ensemble import RandomForestRegressor\n",
    "from sklearn.pipeline import Pipeline\n",
    "from sklearn.compose import ColumnTransformer\n",
    "from sklearn.metrics import mean_squared_error, r2_score\n",
    "from sklearn.linear_model import LinearRegression\n",
    "from sklearn.tree import DecisionTreeRegressor\n",
    "from sklearn.ensemble import RandomForestRegressor\n",
    "from sklearn.svm import SVR\n",
    "from sklearn.neighbors import KNeighborsRegressor\n",
    "import seaborn as sns"
   ]
  },
  {
   "cell_type": "code",
   "execution_count": 2,
   "id": "ba7f800b",
   "metadata": {},
   "outputs": [],
   "source": [
    "data = pd.read_csv(\"cars.csv\")"
   ]
  },
  {
   "cell_type": "code",
   "execution_count": 3,
   "id": "f27c3841",
   "metadata": {},
   "outputs": [
    {
     "data": {
      "text/html": [
       "<div>\n",
       "<style scoped>\n",
       "    .dataframe tbody tr th:only-of-type {\n",
       "        vertical-align: middle;\n",
       "    }\n",
       "\n",
       "    .dataframe tbody tr th {\n",
       "        vertical-align: top;\n",
       "    }\n",
       "\n",
       "    .dataframe thead th {\n",
       "        text-align: right;\n",
       "    }\n",
       "</style>\n",
       "<table border=\"1\" class=\"dataframe\">\n",
       "  <thead>\n",
       "    <tr style=\"text-align: right;\">\n",
       "      <th></th>\n",
       "      <th>Car_ID</th>\n",
       "      <th>Brand</th>\n",
       "      <th>Model</th>\n",
       "      <th>Year</th>\n",
       "      <th>Kilometers_Driven</th>\n",
       "      <th>Fuel_Type</th>\n",
       "      <th>Transmission</th>\n",
       "      <th>Owner_Type</th>\n",
       "      <th>Mileage</th>\n",
       "      <th>Engine</th>\n",
       "      <th>Power</th>\n",
       "      <th>Seats</th>\n",
       "      <th>Price</th>\n",
       "    </tr>\n",
       "  </thead>\n",
       "  <tbody>\n",
       "    <tr>\n",
       "      <th>0</th>\n",
       "      <td>1</td>\n",
       "      <td>Toyota</td>\n",
       "      <td>Corolla</td>\n",
       "      <td>2018</td>\n",
       "      <td>50000</td>\n",
       "      <td>Petrol</td>\n",
       "      <td>Manual</td>\n",
       "      <td>First</td>\n",
       "      <td>15</td>\n",
       "      <td>1498</td>\n",
       "      <td>108</td>\n",
       "      <td>5</td>\n",
       "      <td>800000</td>\n",
       "    </tr>\n",
       "    <tr>\n",
       "      <th>1</th>\n",
       "      <td>2</td>\n",
       "      <td>Honda</td>\n",
       "      <td>Civic</td>\n",
       "      <td>2019</td>\n",
       "      <td>40000</td>\n",
       "      <td>Petrol</td>\n",
       "      <td>Automatic</td>\n",
       "      <td>Second</td>\n",
       "      <td>17</td>\n",
       "      <td>1597</td>\n",
       "      <td>140</td>\n",
       "      <td>5</td>\n",
       "      <td>1000000</td>\n",
       "    </tr>\n",
       "    <tr>\n",
       "      <th>2</th>\n",
       "      <td>3</td>\n",
       "      <td>Ford</td>\n",
       "      <td>Mustang</td>\n",
       "      <td>2017</td>\n",
       "      <td>20000</td>\n",
       "      <td>Petrol</td>\n",
       "      <td>Automatic</td>\n",
       "      <td>First</td>\n",
       "      <td>10</td>\n",
       "      <td>4951</td>\n",
       "      <td>395</td>\n",
       "      <td>4</td>\n",
       "      <td>2500000</td>\n",
       "    </tr>\n",
       "    <tr>\n",
       "      <th>3</th>\n",
       "      <td>4</td>\n",
       "      <td>Maruti</td>\n",
       "      <td>Swift</td>\n",
       "      <td>2020</td>\n",
       "      <td>30000</td>\n",
       "      <td>Diesel</td>\n",
       "      <td>Manual</td>\n",
       "      <td>Third</td>\n",
       "      <td>23</td>\n",
       "      <td>1248</td>\n",
       "      <td>74</td>\n",
       "      <td>5</td>\n",
       "      <td>600000</td>\n",
       "    </tr>\n",
       "    <tr>\n",
       "      <th>4</th>\n",
       "      <td>5</td>\n",
       "      <td>Hyundai</td>\n",
       "      <td>Sonata</td>\n",
       "      <td>2016</td>\n",
       "      <td>60000</td>\n",
       "      <td>Diesel</td>\n",
       "      <td>Automatic</td>\n",
       "      <td>Second</td>\n",
       "      <td>18</td>\n",
       "      <td>1999</td>\n",
       "      <td>194</td>\n",
       "      <td>5</td>\n",
       "      <td>850000</td>\n",
       "    </tr>\n",
       "    <tr>\n",
       "      <th>...</th>\n",
       "      <td>...</td>\n",
       "      <td>...</td>\n",
       "      <td>...</td>\n",
       "      <td>...</td>\n",
       "      <td>...</td>\n",
       "      <td>...</td>\n",
       "      <td>...</td>\n",
       "      <td>...</td>\n",
       "      <td>...</td>\n",
       "      <td>...</td>\n",
       "      <td>...</td>\n",
       "      <td>...</td>\n",
       "      <td>...</td>\n",
       "    </tr>\n",
       "    <tr>\n",
       "      <th>95</th>\n",
       "      <td>96</td>\n",
       "      <td>Mercedes</td>\n",
       "      <td>C-Class</td>\n",
       "      <td>2019</td>\n",
       "      <td>22000</td>\n",
       "      <td>Diesel</td>\n",
       "      <td>Automatic</td>\n",
       "      <td>First</td>\n",
       "      <td>16</td>\n",
       "      <td>1950</td>\n",
       "      <td>191</td>\n",
       "      <td>5</td>\n",
       "      <td>2900000</td>\n",
       "    </tr>\n",
       "    <tr>\n",
       "      <th>96</th>\n",
       "      <td>97</td>\n",
       "      <td>Toyota</td>\n",
       "      <td>Innova Crysta</td>\n",
       "      <td>2017</td>\n",
       "      <td>38000</td>\n",
       "      <td>Diesel</td>\n",
       "      <td>Manual</td>\n",
       "      <td>Second</td>\n",
       "      <td>13</td>\n",
       "      <td>2755</td>\n",
       "      <td>171</td>\n",
       "      <td>7</td>\n",
       "      <td>1400000</td>\n",
       "    </tr>\n",
       "    <tr>\n",
       "      <th>97</th>\n",
       "      <td>98</td>\n",
       "      <td>Ford</td>\n",
       "      <td>EcoSport</td>\n",
       "      <td>2018</td>\n",
       "      <td>26000</td>\n",
       "      <td>Petrol</td>\n",
       "      <td>Manual</td>\n",
       "      <td>Third</td>\n",
       "      <td>18</td>\n",
       "      <td>1497</td>\n",
       "      <td>121</td>\n",
       "      <td>5</td>\n",
       "      <td>750000</td>\n",
       "    </tr>\n",
       "    <tr>\n",
       "      <th>98</th>\n",
       "      <td>99</td>\n",
       "      <td>Hyundai</td>\n",
       "      <td>Verna</td>\n",
       "      <td>2019</td>\n",
       "      <td>24000</td>\n",
       "      <td>Petrol</td>\n",
       "      <td>Automatic</td>\n",
       "      <td>Second</td>\n",
       "      <td>17</td>\n",
       "      <td>1497</td>\n",
       "      <td>113</td>\n",
       "      <td>5</td>\n",
       "      <td>850000</td>\n",
       "    </tr>\n",
       "    <tr>\n",
       "      <th>99</th>\n",
       "      <td>100</td>\n",
       "      <td>Tata</td>\n",
       "      <td>Altroz</td>\n",
       "      <td>2020</td>\n",
       "      <td>18000</td>\n",
       "      <td>Petrol</td>\n",
       "      <td>Manual</td>\n",
       "      <td>First</td>\n",
       "      <td>20</td>\n",
       "      <td>1199</td>\n",
       "      <td>85</td>\n",
       "      <td>5</td>\n",
       "      <td>600000</td>\n",
       "    </tr>\n",
       "  </tbody>\n",
       "</table>\n",
       "<p>100 rows × 13 columns</p>\n",
       "</div>"
      ],
      "text/plain": [
       "    Car_ID     Brand          Model  Year  Kilometers_Driven Fuel_Type  \\\n",
       "0        1    Toyota        Corolla  2018              50000    Petrol   \n",
       "1        2     Honda          Civic  2019              40000    Petrol   \n",
       "2        3      Ford        Mustang  2017              20000    Petrol   \n",
       "3        4    Maruti          Swift  2020              30000    Diesel   \n",
       "4        5   Hyundai         Sonata  2016              60000    Diesel   \n",
       "..     ...       ...            ...   ...                ...       ...   \n",
       "95      96  Mercedes        C-Class  2019              22000    Diesel   \n",
       "96      97    Toyota  Innova Crysta  2017              38000    Diesel   \n",
       "97      98      Ford       EcoSport  2018              26000    Petrol   \n",
       "98      99   Hyundai          Verna  2019              24000    Petrol   \n",
       "99     100      Tata         Altroz  2020              18000    Petrol   \n",
       "\n",
       "   Transmission Owner_Type  Mileage  Engine  Power  Seats    Price  \n",
       "0        Manual      First       15    1498    108      5   800000  \n",
       "1     Automatic     Second       17    1597    140      5  1000000  \n",
       "2     Automatic      First       10    4951    395      4  2500000  \n",
       "3        Manual      Third       23    1248     74      5   600000  \n",
       "4     Automatic     Second       18    1999    194      5   850000  \n",
       "..          ...        ...      ...     ...    ...    ...      ...  \n",
       "95    Automatic      First       16    1950    191      5  2900000  \n",
       "96       Manual     Second       13    2755    171      7  1400000  \n",
       "97       Manual      Third       18    1497    121      5   750000  \n",
       "98    Automatic     Second       17    1497    113      5   850000  \n",
       "99       Manual      First       20    1199     85      5   600000  \n",
       "\n",
       "[100 rows x 13 columns]"
      ]
     },
     "execution_count": 3,
     "metadata": {},
     "output_type": "execute_result"
    }
   ],
   "source": [
    "data"
   ]
  },
  {
   "cell_type": "code",
   "execution_count": 4,
   "id": "53f8ac21",
   "metadata": {},
   "outputs": [
    {
     "name": "stdout",
     "output_type": "stream",
     "text": [
      "<class 'pandas.core.frame.DataFrame'>\n",
      "RangeIndex: 100 entries, 0 to 99\n",
      "Data columns (total 13 columns):\n",
      " #   Column             Non-Null Count  Dtype \n",
      "---  ------             --------------  ----- \n",
      " 0   Car_ID             100 non-null    int64 \n",
      " 1   Brand              100 non-null    object\n",
      " 2   Model              100 non-null    object\n",
      " 3   Year               100 non-null    int64 \n",
      " 4   Kilometers_Driven  100 non-null    int64 \n",
      " 5   Fuel_Type          100 non-null    object\n",
      " 6   Transmission       100 non-null    object\n",
      " 7   Owner_Type         100 non-null    object\n",
      " 8   Mileage            100 non-null    int64 \n",
      " 9   Engine             100 non-null    int64 \n",
      " 10  Power              100 non-null    int64 \n",
      " 11  Seats              100 non-null    int64 \n",
      " 12  Price              100 non-null    int64 \n",
      "dtypes: int64(8), object(5)\n",
      "memory usage: 10.3+ KB\n"
     ]
    }
   ],
   "source": [
    "data.info()"
   ]
  },
  {
   "cell_type": "code",
   "execution_count": 5,
   "id": "6f0d6576",
   "metadata": {},
   "outputs": [
    {
     "data": {
      "text/plain": [
       "Index(['Car_ID', 'Brand', 'Model', 'Year', 'Kilometers_Driven', 'Fuel_Type',\n",
       "       'Transmission', 'Owner_Type', 'Mileage', 'Engine', 'Power', 'Seats',\n",
       "       'Price'],\n",
       "      dtype='object')"
      ]
     },
     "execution_count": 5,
     "metadata": {},
     "output_type": "execute_result"
    }
   ],
   "source": [
    "data.columns"
   ]
  },
  {
   "cell_type": "code",
   "execution_count": 6,
   "id": "972e9dd4",
   "metadata": {},
   "outputs": [],
   "source": [
    "categorical_features = ['Brand', 'Model','Transmission','Fuel_Type','Owner_Type','Seats']\n",
    "numeric_features = ['Year','Kilometers_Driven','Mileage', 'Engine', 'Power']"
   ]
  },
  {
   "cell_type": "code",
   "execution_count": 7,
   "id": "23bd7d8a",
   "metadata": {},
   "outputs": [
    {
     "name": "stdout",
     "output_type": "stream",
     "text": [
      "Brand  :  11\n",
      "Brand  :  ['Toyota' 'Honda' 'Ford' 'Maruti' 'Hyundai' 'Tata' 'Mahindra' 'Volkswagen'\n",
      " 'Audi' 'BMW' 'Mercedes'] \n",
      "\n",
      "Model  :  58\n",
      "Model  :  ['Corolla' 'Civic' 'Mustang' 'Swift' 'Sonata' 'Nexon' 'Scorpio' 'Polo'\n",
      " 'A4' 'X1' 'C-Class' 'Endeavour' 'Creta' 'Harrier' 'Ertiga' 'City'\n",
      " 'Tiguan' 'Q3' '5 Series' 'GLC' 'Innova' 'Figo' 'Verna' 'Altroz' 'Thar'\n",
      " 'Passat' 'A6' 'X3' 'E-Class' 'Fortuner' 'Aspire' 'Elantra' 'Safari'\n",
      " 'Vitara' 'WR-V' 'Ameo' 'A3' '7 Series' 'GLE' 'Yaris' 'Ranger' 'Santro'\n",
      " 'Tigor' 'S-Cross' 'BR-V' 'T-Roc' 'Q7' 'X5' 'GLA' 'Camry' 'Venue' 'Tiago'\n",
      " 'XUV300' 'Vento' 'A5' '3 Series' 'Innova Crysta' 'EcoSport'] \n",
      "\n",
      "Transmission  :  2\n",
      "Transmission  :  ['Manual' 'Automatic'] \n",
      "\n",
      "Fuel_Type  :  2\n",
      "Fuel_Type  :  ['Petrol' 'Diesel'] \n",
      "\n",
      "Owner_Type  :  3\n",
      "Owner_Type  :  ['First' 'Second' 'Third'] \n",
      "\n",
      "Seats  :  3\n",
      "Seats  :  [5 4 7] \n",
      "\n"
     ]
    }
   ],
   "source": [
    "for column in categorical_features:\n",
    "    print(column,\" : \",data[column].nunique())\n",
    "    print(column,\" : \", data[column].unique(),\"\\n\")"
   ]
  },
  {
   "cell_type": "code",
   "execution_count": 8,
   "id": "15819eff",
   "metadata": {},
   "outputs": [],
   "source": [
    "for column in categorical_features:\n",
    "    mapping = {value: index for index, value in enumerate(data[column].unique())}\n",
    "    data[column] = data[column].map(mapping)"
   ]
  },
  {
   "cell_type": "code",
   "execution_count": 9,
   "id": "f8edd678",
   "metadata": {},
   "outputs": [],
   "source": [
    "# Split dataset into features and target\n",
    "X = data.drop(columns=[\"Price\",\"Car_ID\"])\n",
    "y = data[\"Price\"]"
   ]
  },
  {
   "cell_type": "code",
   "execution_count": 10,
   "id": "8fc682d3",
   "metadata": {},
   "outputs": [
    {
     "data": {
      "image/png": "[encoded data removed]",
      "text/plain": [
       "<Figure size 1200x1000 with 12 Axes>"
      ]
     },
     "metadata": {},
     "output_type": "display_data"
    }
   ],
   "source": [
    "# Graphical Representation - Histograms\n",
    "X.hist(figsize=(12, 10))\n",
    "plt.tight_layout()\n",
    "plt.show()"
   ]
  },
  {
   "cell_type": "code",
   "execution_count": 11,
   "id": "8513284c",
   "metadata": {},
   "outputs": [
    {
     "data": {
      "image/png": "[encoded data removed]",
      "text/plain": [
       "<Figure size 1200x800 with 1 Axes>"
      ]
     },
     "metadata": {},
     "output_type": "display_data"
    }
   ],
   "source": [
    "# Graphical Representation - Box plots\n",
    "plt.figure(figsize=(12, 8))\n",
    "sns.boxplot(data=X, orient='h')\n",
    "plt.show()"
   ]
  },
  {
   "cell_type": "code",
   "execution_count": 12,
   "id": "d8655ed7",
   "metadata": {},
   "outputs": [],
   "source": [
    "# Split dataset into train and test sets\n",
    "X_train, X_test, y_train, y_test = train_test_split(X, y, test_size=0.2, random_state=42)"
   ]
  },
  {
   "cell_type": "code",
   "execution_count": 13,
   "id": "cb948094",
   "metadata": {},
   "outputs": [],
   "source": [
    "# Define preprocessing steps for numerical and categorical features\n",
    "numeric_transformer = Pipeline(steps=[\n",
    "    ('imputer', SimpleImputer(strategy='median')),  # Handle missing values\n",
    "    ('scaler', StandardScaler())  # Feature scaling\n",
    "])"
   ]
  },
  {
   "cell_type": "code",
   "execution_count": 14,
   "id": "da692b8b",
   "metadata": {},
   "outputs": [],
   "source": [
    "categorical_transformer = Pipeline(steps=[\n",
    "    ('imputer', SimpleImputer(strategy='most_frequent'))  # Handle missing values\n",
    "    # You may add more steps here such as one-hot encoding or ordinal encoding\n",
    "])"
   ]
  },
  {
   "cell_type": "code",
   "execution_count": 15,
   "id": "b1685803",
   "metadata": {},
   "outputs": [],
   "source": [
    "# Combine preprocessing steps for both types of features\n",
    "preprocessor = ColumnTransformer(\n",
    "    transformers=[\n",
    "        ('num', numeric_transformer, numeric_features),\n",
    "        ('cat', categorical_transformer, categorical_features)\n",
    "    ])"
   ]
  },
  {
   "cell_type": "code",
   "execution_count": 16,
   "id": "f73ce775",
   "metadata": {},
   "outputs": [],
   "source": [
    "# Define regressors\n",
    "regressors = {\n",
    "    'Linear Regression': LinearRegression(),\n",
    "    'Decision Tree': DecisionTreeRegressor(),\n",
    "    'Random Forest': RandomForestRegressor(),\n",
    "    'Support Vector Machine': SVR(),\n",
    "    'K-Nearest Neighbors': KNeighborsRegressor()\n",
    "}"
   ]
  },
  {
   "cell_type": "code",
   "execution_count": 17,
   "id": "003286a1",
   "metadata": {},
   "outputs": [],
   "source": [
    "# Define hyperparameters grid for Grid Search\n",
    "param_grids = {\n",
    "    'Linear Regression': {},\n",
    "    'Decision Tree': {'regressor__max_depth': [None, 5, 10, 20]},\n",
    "    'Random Forest': {'regressor__n_estimators': [50, 100, 200]},  # Specify n_estimators here\n",
    "    'Support Vector Machine': {'regressor__C': [0.1, 1, 10], 'regressor__gamma': [0.1, 0.01, 0.001], 'regressor__kernel': ['rbf']},\n",
    "    'K-Nearest Neighbors': {'regressor__n_neighbors': [3, 5, 7, 9]}\n",
    "}"
   ]
  },
  {
   "cell_type": "code",
   "execution_count": 18,
   "id": "9b85ab70",
   "metadata": {},
   "outputs": [],
   "source": [
    "best_model = None\n",
    "best_score = float('-inf')"
   ]
  },
  {
   "cell_type": "code",
   "execution_count": 19,
   "id": "db129bcd",
   "metadata": {},
   "outputs": [
    {
     "name": "stdout",
     "output_type": "stream",
     "text": [
      "\n",
      "Performing Grid Search CV for Linear Regression...\n",
      "Best parameters: {}\n",
      "Best cross-validation score: -202559530286.25366\n",
      "\n",
      "Performing Grid Search CV for Decision Tree...\n",
      "Best parameters: {'regressor__max_depth': None}\n",
      "Best cross-validation score: -100843750000.0\n",
      "\n",
      "Performing Grid Search CV for Random Forest...\n",
      "Best parameters: {'regressor__n_estimators': 200}\n",
      "Best cross-validation score: -70151102735.56194\n",
      "\n",
      "Performing Grid Search CV for Support Vector Machine...\n",
      "Best parameters: {'regressor__C': 10, 'regressor__gamma': 0.1, 'regressor__kernel': 'rbf'}\n",
      "Best cross-validation score: -1093056546263.915\n",
      "\n",
      "Performing Grid Search CV for K-Nearest Neighbors...\n",
      "Best parameters: {'regressor__n_neighbors': 5}\n",
      "Best cross-validation score: -117385000000.0\n"
     ]
    }
   ],
   "source": [
    "# Perform Grid Search with cross-validation for each regressor\n",
    "for reg_name, reg in regressors.items():\n",
    "    print(f\"\\nPerforming Grid Search CV for {reg_name}...\")\n",
    "    if reg_name in param_grids:\n",
    "        param_grid = param_grids[reg_name]\n",
    "        pipeline = Pipeline(steps=[\n",
    "            ('preprocessor', preprocessor),\n",
    "            ('feature_selection', RFE(estimator=RandomForestRegressor(n_estimators=100))),\n",
    "            ('regressor', reg)\n",
    "        ])\n",
    "        grid_search = GridSearchCV(pipeline, param_grid, cv=5, scoring='neg_mean_squared_error', error_score='raise')\n",
    "        grid_search.fit(X_train, y_train)\n",
    "        print(f\"Best parameters: {grid_search.best_params_}\")\n",
    "        print(f\"Best cross-validation score: {grid_search.best_score_}\")\n",
    "        if grid_search.best_score_ > best_score:\n",
    "            best_score = grid_search.best_score_\n",
    "            best_model = grid_search.best_estimator_\n",
    "    else:\n",
    "        # If there are no hyperparameters to tune, just perform cross-validation\n",
    "        pipeline = Pipeline(steps=[\n",
    "            ('preprocessor', preprocessor),\n",
    "            ('feature_selection', RFE(estimator=RandomForestRegressor())),\n",
    "            ('regressor', reg)\n",
    "        ])\n",
    "        scores = cross_val_score(pipeline, X_train, y_train, cv=5, scoring='neg_mean_squared_error', error_score='raise')\n",
    "        print(f\"Cross-validation scores: {scores}\")\n",
    "        print(f\"Mean negative mean squared error: {scores.mean()}\")\n",
    "        if scores.mean() > best_score:\n",
    "            best_score = scores.mean()\n",
    "            best_model = pipeline\n"
   ]
  },
  {
   "cell_type": "code",
   "execution_count": 20,
   "id": "42694862",
   "metadata": {},
   "outputs": [
    {
     "name": "stdout",
     "output_type": "stream",
     "text": [
      "\n",
      "Best Model: Pipeline(steps=[('preprocessor',\n",
      "                 ColumnTransformer(transformers=[('num',\n",
      "                                                  Pipeline(steps=[('imputer',\n",
      "                                                                   SimpleImputer(strategy='median')),\n",
      "                                                                  ('scaler',\n",
      "                                                                   StandardScaler())]),\n",
      "                                                  ['Year', 'Kilometers_Driven',\n",
      "                                                   'Mileage', 'Engine',\n",
      "                                                   'Power']),\n",
      "                                                 ('cat',\n",
      "                                                  Pipeline(steps=[('imputer',\n",
      "                                                                   SimpleImputer(strategy='most_frequent'))]),\n",
      "                                                  ['Brand', 'Model',\n",
      "                                                   'Transmission', 'Fuel_Type',\n",
      "                                                   'Owner_Type', 'Seats'])])),\n",
      "                ('feature_selection', RFE(estimator=RandomForestRegressor())),\n",
      "                ('regressor', RandomForestRegressor(n_estimators=200))])\n"
     ]
    },
    {
     "data": {
      "text/html": [
       "<style>#sk-container-id-1 {color: black;}#sk-container-id-1 pre{padding: 0;}#sk-container-id-1 div.sk-toggleable {background-color: white;}#sk-container-id-1 label.sk-toggleable__label {cursor: pointer;display: block;width: 100%;margin-bottom: 0;padding: 0.3em;box-sizing: border-box;text-align: center;}#sk-container-id-1 label.sk-toggleable__label-arrow:before {content: \"▸\";float: left;margin-right: 0.25em;color: #696969;}#sk-container-id-1 label.sk-toggleable__label-arrow:hover:before {color: black;}#sk-container-id-1 div.sk-estimator:hover label.sk-toggleable__label-arrow:before {color: black;}#sk-container-id-1 div.sk-toggleable__content {max-height: 0;max-width: 0;overflow: hidden;text-align: left;background-color: #f0f8ff;}#sk-container-id-1 div.sk-toggleable__content pre {margin: 0.2em;color: black;border-radius: 0.25em;background-color: #f0f8ff;}#sk-container-id-1 input.sk-toggleable__control:checked~div.sk-toggleable__content {max-height: 200px;max-width: 100%;overflow: auto;}#sk-container-id-1 input.sk-toggleable__control:checked~label.sk-toggleable__label-arrow:before {content: \"▾\";}#sk-container-id-1 div.sk-estimator input.sk-toggleable__control:checked~label.sk-toggleable__label {background-color: #d4ebff;}#sk-container-id-1 div.sk-label input.sk-toggleable__control:checked~label.sk-toggleable__label {background-color: #d4ebff;}#sk-container-id-1 input.sk-hidden--visually {border: 0;clip: rect(1px 1px 1px 1px);clip: rect(1px, 1px, 1px, 1px);height: 1px;margin: -1px;overflow: hidden;padding: 0;position: absolute;width: 1px;}#sk-container-id-1 div.sk-estimator {font-family: monospace;background-color: #f0f8ff;border: 1px dotted black;border-radius: 0.25em;box-sizing: border-box;margin-bottom: 0.5em;}#sk-container-id-1 div.sk-estimator:hover {background-color: #d4ebff;}#sk-container-id-1 div.sk-parallel-item::after {content: \"\";width: 100%;border-bottom: 1px solid gray;flex-grow: 1;}#sk-container-id-1 div.sk-label:hover label.sk-toggleable__label {background-color: #d4ebff;}#sk-container-id-1 div.sk-serial::before {content: \"\";position: absolute;border-left: 1px solid gray;box-sizing: border-box;top: 0;bottom: 0;left: 50%;z-index: 0;}#sk-container-id-1 div.sk-serial {display: flex;flex-direction: column;align-items: center;background-color: white;padding-right: 0.2em;padding-left: 0.2em;position: relative;}#sk-container-id-1 div.sk-item {position: relative;z-index: 1;}#sk-container-id-1 div.sk-parallel {display: flex;align-items: stretch;justify-content: center;background-color: white;position: relative;}#sk-container-id-1 div.sk-item::before, #sk-container-id-1 div.sk-parallel-item::before {content: \"\";position: absolute;border-left: 1px solid gray;box-sizing: border-box;top: 0;bottom: 0;left: 50%;z-index: -1;}#sk-container-id-1 div.sk-parallel-item {display: flex;flex-direction: column;z-index: 1;position: relative;background-color: white;}#sk-container-id-1 div.sk-parallel-item:first-child::after {align-self: flex-end;width: 50%;}#sk-container-id-1 div.sk-parallel-item:last-child::after {align-self: flex-start;width: 50%;}#sk-container-id-1 div.sk-parallel-item:only-child::after {width: 0;}#sk-container-id-1 div.sk-dashed-wrapped {border: 1px dashed gray;margin: 0 0.4em 0.5em 0.4em;box-sizing: border-box;padding-bottom: 0.4em;background-color: white;}#sk-container-id-1 div.sk-label label {font-family: monospace;font-weight: bold;display: inline-block;line-height: 1.2em;}#sk-container-id-1 div.sk-label-container {text-align: center;}#sk-container-id-1 div.sk-container {/* jupyter's `normalize.less` sets `[hidden] { display: none; }` but bootstrap.min.css set `[hidden] { display: none !important; }` so we also need the `!important` here to be able to override the default hidden behavior on the sphinx rendered scikit-learn.org. See: https://github.com/scikit-learn/scikit-learn/issues/21755 */display: inline-block !important;position: relative;}#sk-container-id-1 div.sk-text-repr-fallback {display: none;}</style><div id=\"sk-container-id-1\" class=\"sk-top-container\"><div class=\"sk-text-repr-fallback\"><pre>Pipeline(steps=[(&#x27;preprocessor&#x27;,\n",
       "                 ColumnTransformer(transformers=[(&#x27;num&#x27;,\n",
       "                                                  Pipeline(steps=[(&#x27;imputer&#x27;,\n",
       "                                                                   SimpleImputer(strategy=&#x27;median&#x27;)),\n",
       "                                                                  (&#x27;scaler&#x27;,\n",
       "                                                                   StandardScaler())]),\n",
       "                                                  [&#x27;Year&#x27;, &#x27;Kilometers_Driven&#x27;,\n",
       "                                                   &#x27;Mileage&#x27;, &#x27;Engine&#x27;,\n",
       "                                                   &#x27;Power&#x27;]),\n",
       "                                                 (&#x27;cat&#x27;,\n",
       "                                                  Pipeline(steps=[(&#x27;imputer&#x27;,\n",
       "                                                                   SimpleImputer(strategy=&#x27;most_frequent&#x27;))]),\n",
       "                                                  [&#x27;Brand&#x27;, &#x27;Model&#x27;,\n",
       "                                                   &#x27;Transmission&#x27;, &#x27;Fuel_Type&#x27;,\n",
       "                                                   &#x27;Owner_Type&#x27;, &#x27;Seats&#x27;])])),\n",
       "                (&#x27;feature_selection&#x27;, RFE(estimator=RandomForestRegressor())),\n",
       "                (&#x27;regressor&#x27;, RandomForestRegressor(n_estimators=200))])</pre><b>In a Jupyter environment, please rerun this cell to show the HTML representation or trust the notebook. <br />On GitHub, the HTML representation is unable to render, please try loading this page with nbviewer.org.</b></div><div class=\"sk-container\" hidden><div class=\"sk-item sk-dashed-wrapped\"><div class=\"sk-label-container\"><div class=\"sk-label sk-toggleable\"><input class=\"sk-toggleable__control sk-hidden--visually\" id=\"sk-estimator-id-1\" type=\"checkbox\" ><label for=\"sk-estimator-id-1\" class=\"sk-toggleable__label sk-toggleable__label-arrow\">Pipeline</label><div class=\"sk-toggleable__content\"><pre>Pipeline(steps=[(&#x27;preprocessor&#x27;,\n",
       "                 ColumnTransformer(transformers=[(&#x27;num&#x27;,\n",
       "                                                  Pipeline(steps=[(&#x27;imputer&#x27;,\n",
       "                                                                   SimpleImputer(strategy=&#x27;median&#x27;)),\n",
       "                                                                  (&#x27;scaler&#x27;,\n",
       "                                                                   StandardScaler())]),\n",
       "                                                  [&#x27;Year&#x27;, &#x27;Kilometers_Driven&#x27;,\n",
       "                                                   &#x27;Mileage&#x27;, &#x27;Engine&#x27;,\n",
       "                                                   &#x27;Power&#x27;]),\n",
       "                                                 (&#x27;cat&#x27;,\n",
       "                                                  Pipeline(steps=[(&#x27;imputer&#x27;,\n",
       "                                                                   SimpleImputer(strategy=&#x27;most_frequent&#x27;))]),\n",
       "                                                  [&#x27;Brand&#x27;, &#x27;Model&#x27;,\n",
       "                                                   &#x27;Transmission&#x27;, &#x27;Fuel_Type&#x27;,\n",
       "                                                   &#x27;Owner_Type&#x27;, &#x27;Seats&#x27;])])),\n",
       "                (&#x27;feature_selection&#x27;, RFE(estimator=RandomForestRegressor())),\n",
       "                (&#x27;regressor&#x27;, RandomForestRegressor(n_estimators=200))])</pre></div></div></div><div class=\"sk-serial\"><div class=\"sk-item sk-dashed-wrapped\"><div class=\"sk-label-container\"><div class=\"sk-label sk-toggleable\"><input class=\"sk-toggleable__control sk-hidden--visually\" id=\"sk-estimator-id-2\" type=\"checkbox\" ><label for=\"sk-estimator-id-2\" class=\"sk-toggleable__label sk-toggleable__label-arrow\">preprocessor: ColumnTransformer</label><div class=\"sk-toggleable__content\"><pre>ColumnTransformer(transformers=[(&#x27;num&#x27;,\n",
       "                                 Pipeline(steps=[(&#x27;imputer&#x27;,\n",
       "                                                  SimpleImputer(strategy=&#x27;median&#x27;)),\n",
       "                                                 (&#x27;scaler&#x27;, StandardScaler())]),\n",
       "                                 [&#x27;Year&#x27;, &#x27;Kilometers_Driven&#x27;, &#x27;Mileage&#x27;,\n",
       "                                  &#x27;Engine&#x27;, &#x27;Power&#x27;]),\n",
       "                                (&#x27;cat&#x27;,\n",
       "                                 Pipeline(steps=[(&#x27;imputer&#x27;,\n",
       "                                                  SimpleImputer(strategy=&#x27;most_frequent&#x27;))]),\n",
       "                                 [&#x27;Brand&#x27;, &#x27;Model&#x27;, &#x27;Transmission&#x27;, &#x27;Fuel_Type&#x27;,\n",
       "                                  &#x27;Owner_Type&#x27;, &#x27;Seats&#x27;])])</pre></div></div></div><div class=\"sk-parallel\"><div class=\"sk-parallel-item\"><div class=\"sk-item\"><div class=\"sk-label-container\"><div class=\"sk-label sk-toggleable\"><input class=\"sk-toggleable__control sk-hidden--visually\" id=\"sk-estimator-id-3\" type=\"checkbox\" ><label for=\"sk-estimator-id-3\" class=\"sk-toggleable__label sk-toggleable__label-arrow\">num</label><div class=\"sk-toggleable__content\"><pre>[&#x27;Year&#x27;, &#x27;Kilometers_Driven&#x27;, &#x27;Mileage&#x27;, &#x27;Engine&#x27;, &#x27;Power&#x27;]</pre></div></div></div><div class=\"sk-serial\"><div class=\"sk-item\"><div class=\"sk-serial\"><div class=\"sk-item\"><div class=\"sk-estimator sk-toggleable\"><input class=\"sk-toggleable__control sk-hidden--visually\" id=\"sk-estimator-id-4\" type=\"checkbox\" ><label for=\"sk-estimator-id-4\" class=\"sk-toggleable__label sk-toggleable__label-arrow\">SimpleImputer</label><div class=\"sk-toggleable__content\"><pre>SimpleImputer(strategy=&#x27;median&#x27;)</pre></div></div></div><div class=\"sk-item\"><div class=\"sk-estimator sk-toggleable\"><input class=\"sk-toggleable__control sk-hidden--visually\" id=\"sk-estimator-id-5\" type=\"checkbox\" ><label for=\"sk-estimator-id-5\" class=\"sk-toggleable__label sk-toggleable__label-arrow\">StandardScaler</label><div class=\"sk-toggleable__content\"><pre>StandardScaler()</pre></div></div></div></div></div></div></div></div><div class=\"sk-parallel-item\"><div class=\"sk-item\"><div class=\"sk-label-container\"><div class=\"sk-label sk-toggleable\"><input class=\"sk-toggleable__control sk-hidden--visually\" id=\"sk-estimator-id-6\" type=\"checkbox\" ><label for=\"sk-estimator-id-6\" class=\"sk-toggleable__label sk-toggleable__label-arrow\">cat</label><div class=\"sk-toggleable__content\"><pre>[&#x27;Brand&#x27;, &#x27;Model&#x27;, &#x27;Transmission&#x27;, &#x27;Fuel_Type&#x27;, &#x27;Owner_Type&#x27;, &#x27;Seats&#x27;]</pre></div></div></div><div class=\"sk-serial\"><div class=\"sk-item\"><div class=\"sk-serial\"><div class=\"sk-item\"><div class=\"sk-estimator sk-toggleable\"><input class=\"sk-toggleable__control sk-hidden--visually\" id=\"sk-estimator-id-7\" type=\"checkbox\" ><label for=\"sk-estimator-id-7\" class=\"sk-toggleable__label sk-toggleable__label-arrow\">SimpleImputer</label><div class=\"sk-toggleable__content\"><pre>SimpleImputer(strategy=&#x27;most_frequent&#x27;)</pre></div></div></div></div></div></div></div></div></div></div><div class=\"sk-item sk-dashed-wrapped\"><div class=\"sk-label-container\"><div class=\"sk-label sk-toggleable\"><input class=\"sk-toggleable__control sk-hidden--visually\" id=\"sk-estimator-id-8\" type=\"checkbox\" ><label for=\"sk-estimator-id-8\" class=\"sk-toggleable__label sk-toggleable__label-arrow\">feature_selection: RFE</label><div class=\"sk-toggleable__content\"><pre>RFE(estimator=RandomForestRegressor())</pre></div></div></div><div class=\"sk-parallel\"><div class=\"sk-parallel-item\"><div class=\"sk-item\"><div class=\"sk-label-container\"><div class=\"sk-label sk-toggleable\"><input class=\"sk-toggleable__control sk-hidden--visually\" id=\"sk-estimator-id-9\" type=\"checkbox\" ><label for=\"sk-estimator-id-9\" class=\"sk-toggleable__label sk-toggleable__label-arrow\">estimator: RandomForestRegressor</label><div class=\"sk-toggleable__content\"><pre>RandomForestRegressor()</pre></div></div></div><div class=\"sk-serial\"><div class=\"sk-item\"><div class=\"sk-estimator sk-toggleable\"><input class=\"sk-toggleable__control sk-hidden--visually\" id=\"sk-estimator-id-10\" type=\"checkbox\" ><label for=\"sk-estimator-id-10\" class=\"sk-toggleable__label sk-toggleable__label-arrow\">RandomForestRegressor</label><div class=\"sk-toggleable__content\"><pre>RandomForestRegressor()</pre></div></div></div></div></div></div></div></div><div class=\"sk-item\"><div class=\"sk-estimator sk-toggleable\"><input class=\"sk-toggleable__control sk-hidden--visually\" id=\"sk-estimator-id-11\" type=\"checkbox\" ><label for=\"sk-estimator-id-11\" class=\"sk-toggleable__label sk-toggleable__label-arrow\">RandomForestRegressor</label><div class=\"sk-toggleable__content\"><pre>RandomForestRegressor(n_estimators=200)</pre></div></div></div></div></div></div></div>"
      ],
      "text/plain": [
       "Pipeline(steps=[('preprocessor',\n",
       "                 ColumnTransformer(transformers=[('num',\n",
       "                                                  Pipeline(steps=[('imputer',\n",
       "                                                                   SimpleImputer(strategy='median')),\n",
       "                                                                  ('scaler',\n",
       "                                                                   StandardScaler())]),\n",
       "                                                  ['Year', 'Kilometers_Driven',\n",
       "                                                   'Mileage', 'Engine',\n",
       "                                                   'Power']),\n",
       "                                                 ('cat',\n",
       "                                                  Pipeline(steps=[('imputer',\n",
       "                                                                   SimpleImputer(strategy='most_frequent'))]),\n",
       "                                                  ['Brand', 'Model',\n",
       "                                                   'Transmission', 'Fuel_Type',\n",
       "                                                   'Owner_Type', 'Seats'])])),\n",
       "                ('feature_selection', RFE(estimator=RandomForestRegressor())),\n",
       "                ('regressor', RandomForestRegressor(n_estimators=200))])"
      ]
     },
     "execution_count": 20,
     "metadata": {},
     "output_type": "execute_result"
    }
   ],
   "source": [
    "print(f\"\\nBest Model: {best_model}\")\n",
    "\n",
    "# Fit the best model to training data\n",
    "best_model.fit(X_train, y_train)"
   ]
  },
  {
   "cell_type": "code",
   "execution_count": 21,
   "id": "81fa5678",
   "metadata": {},
   "outputs": [],
   "source": [
    "# Predictions on test data\n",
    "y_pred = best_model.predict(X_test)"
   ]
  },
  {
   "cell_type": "code",
   "execution_count": 22,
   "id": "3b459507",
   "metadata": {},
   "outputs": [],
   "source": [
    "# Model evaluation\n",
    "mse = mean_squared_error(y_test, y_pred)\n",
    "r2 = r2_score(y_test, y_pred)"
   ]
  },
  {
   "cell_type": "code",
   "execution_count": 23,
   "id": "7f46708a",
   "metadata": {},
   "outputs": [
    {
     "name": "stdout",
     "output_type": "stream",
     "text": [
      "\n",
      "Mean Squared Error: 127155178125.0\n",
      "R-squared: 0.8445250619001039\n"
     ]
    }
   ],
   "source": [
    "print(\"\\nMean Squared Error:\", mse)\n",
    "print(\"R-squared:\", r2)"
   ]
  },
  {
   "cell_type": "code",
   "execution_count": null,
   "id": "feb90399",
   "metadata": {},
   "outputs": [],
   "source": []
  }
 ],
 "metadata": {
  "kernelspec": {
   "display_name": "Python 3 (ipykernel)",
   "language": "python",
   "name": "python3"
  },
  "language_info": {
   "codemirror_mode": {
    "name": "ipython",
    "version": 3
   },
   "file_extension": ".py",
   "mimetype": "text/x-python",
   "name": "python",
   "nbconvert_exporter": "python",
   "pygments_lexer": "ipython3",
   "version": "3.11.4"
  }
 },
 "nbformat": 4,
 "nbformat_minor": 5
}
